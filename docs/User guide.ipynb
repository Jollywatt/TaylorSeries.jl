{
 "cells": [
  {
   "cell_type": "markdown",
   "metadata": {},
   "source": [
    "<script type=\"text/x-mathjax-config\">\n",
    "  MathJax.Hub.Config({\n",
    "    TeX: { equationNumbers: { autoNumber: \"AMS\" } }\n",
    "  });\n",
    "  MathJax.Hub.Config({\n",
    "    TeX: { extensions: [\"AMSmath.js\", \"AMSsymbols.js\", \"autobold.js\", \"autoload-all.js\"] }\n",
    "  });\n",
    "  MathJax.Hub.Config({\n",
    "    tex2jax: {\n",
    "      inlineMath: [['$','$'], ['\\\\(','\\\\)']],\n",
    "      processEscapes: true\n",
    "    }\n",
    "  });\n",
    "</script>\n",
    "<script type=\"text/javascript\" src=\"http://cdn.mathjax.org/mathjax/latest/MathJax.js?config=TeX-AMS_HTML\">\n",
    "</script>\n",
    "\n",
    "# User guide\n",
    "\n",
    "---\n",
    "\n",
    "`TaylorSeries.jl` can be thought of as a polynomial algebraic manipulator in one or more\n",
    "variables; these two cases are treated separately.  Three new types are defined,\n",
    "`Taylor1`, `HomogeneousPolynomial` and `TaylorN`, which correspond to\n",
    "expansions in one independent variable, homogeneous polynomials of various variables, and the polynomial\n",
    "series in many independent variables, respectively. These types are subtypes\n",
    "of `Number` and are defined parametrically.\n",
    "\n",
    "The package is loaded as usual:"
   ]
  },
  {
   "cell_type": "code",
   "execution_count": null,
   "metadata": {
    "attributes": {
     "classes": [
      "julia"
     ],
     "id": ""
    }
   },
   "outputs": [],
   "source": [
    "julia> using TaylorSeries"
   ]
  },
  {
   "cell_type": "markdown",
   "metadata": {},
   "source": [
    "## One variable\n",
    "\n",
    "Taylor expansions in one variable are represented by the `Taylor1` type, which\n",
    "consists of a vector of coefficients (field `coeffs`) and the maximum\n",
    "order considered for the expansion (field `order`). The\n",
    "coefficients are arranged in ascending order with respect to the power of the\n",
    "independent variable, so that\n",
    "`coeffs[1]` is the constant term, `coeffs[2]` gives the first order term,\n",
    "etc. This is a dense representation of the polynomial.\n",
    "The order of the polynomial can be\n",
    "omitted in the constructor, which is then fixed from the length of the\n",
    "vector of coefficients; otherwise, the maximum\n",
    "of the length of the vector of coefficients and the given integer is taken."
   ]
  },
  {
   "cell_type": "code",
   "execution_count": null,
   "metadata": {
    "attributes": {
     "classes": [
      "julia"
     ],
     "id": ""
    }
   },
   "outputs": [],
   "source": [
    "# Polynomial of order 2 with coefficients 1, 2, 3\n",
    "julia> Taylor1([1, 2, 3])\n",
    " 1 + 2⋅t + 3⋅t²\n",
    "\n",
    "julia> Taylor1([0.0, 1im]) # Also works with complex numbers\n",
    " ( 1.0 im )⋅t\n",
    "\n",
    "julia> tT(a) = a + taylor1_variable(typeof(a),5)  ## a + t of order 5\n",
    "tT (generic function with 1 method)\n",
    "\n",
    "julia> t = tT(0.0) # Independent variable `t`\n",
    " 1.0⋅t\n"
   ]
  },
  {
   "cell_type": "markdown",
   "metadata": {},
   "source": [
    "The above definition of `tT(a)` uses the function `taylor1_variable`, which is a\n",
    "shortcut to define the independent variable of a Taylor expansion,\n",
    "with a given type and given order. As we show below, this is one of the\n",
    "easiest ways to work with the package.\n",
    "\n",
    "The usual arithmetic operators (`+`, `-`, `*`, `/`, `^`, `==`) have been\n",
    "extended to work with the `Taylor1` type, including promotions that involve\n",
    "`Number`s. The operations return a valid Taylor expansion with the same\n",
    "maximum order; compare the last example below, where this is not possible:"
   ]
  },
  {
   "cell_type": "code",
   "execution_count": null,
   "metadata": {
    "attributes": {
     "classes": [
      "julia"
     ],
     "id": ""
    }
   },
   "outputs": [],
   "source": [
    "julia> t*(3t+2.5)\n",
    " 2.5⋅t + 3.0⋅t²\n",
    "\n",
    "julia> 1/(1-t)\n",
    " 1.0 + 1.0⋅t + 1.0⋅t² + 1.0⋅t³ + 1.0⋅t⁴ + 1.0⋅t⁵\n",
    "\n",
    "julia> t*(t^2-4)/(t+2)\n",
    " - 2.0⋅t + 1.0⋅t²\n",
    "\n",
    "julia> tI = im*t\n",
    " ( 1.0 im )⋅t\n",
    "\n",
    "julia> t^6  # order is 5\n",
    " 0.0\n",
    "\n",
    "julia> (1-t)^3.2\n",
    " 1.0 - 3.2⋅t + 3.5200000000000005⋅t² - 1.4080000000000004⋅t³ + 0.07040000000000009⋅t⁴ + 0.011264000000000012⋅t⁵\n",
    "\n",
    "julia> (1+t)^t\n",
    " 1.0 + 1.0⋅t² - 0.5⋅t³ + 0.8333333333333333⋅t⁴ - 0.75⋅t⁵\n",
    "\n",
    "julia> t^3.2\n",
    "ERROR: The 0th order Taylor1 coefficient must be non-zero\n",
    "to raise the Taylor1 polynomial to a non-integer exponent\n",
    " in ^ at /Users/dsanders/.julia/v0.4/TaylorSeries/src/utils_Taylor1.jl:280\n"
   ]
  },
  {
   "cell_type": "markdown",
   "metadata": {},
   "source": [
    "Several elementary functions have been implemented; these compute their\n",
    "coefficients recursively. So far, these functions are `exp`, `log`, `sqrt`, `sin`, `cos`\n",
    "and `tan`;\n",
    "more will be added in the future. Note that this way of obtaining the\n",
    "Taylor coefficients is not the *laziest* way, in particular for many independent\n",
    "variables. Yet, it is quite efficient, especially for the integration of\n",
    "ordinary differential equations, which is among the applications we have in mind."
   ]
  },
  {
   "cell_type": "code",
   "execution_count": null,
   "metadata": {
    "attributes": {
     "classes": [
      "julia"
     ],
     "id": ""
    }
   },
   "outputs": [],
   "source": [
    "julia> exp(t)\n",
    " 1.0 + 1.0⋅t + 0.5⋅t² + 0.16666666666666666⋅t³ + 0.041666666666666664⋅t⁴ + 0.008333333333333333⋅t⁵\n",
    "\n",
    "julia> log(1-t)\n",
    " - 1.0⋅t - 0.5⋅t² - 0.3333333333333333⋅t³ - 0.25⋅t⁴ - 0.2⋅t⁵\n",
    "\n",
    "julia> sqrt(t)\n",
    "ERROR: First non-vanishing Taylor1 coefficient must correspond to an **even power**\n",
    "to expand `sqrt` around 0.\n",
    " in sqrt at /Users/benet/Fisica/6-IntervalArithmetics/TaylorSeries/src/utils_Taylor1.jl:346\n",
    "\n",
    "julia> sqrt(1 + t)\n",
    " 1.0 + 0.5⋅t - 0.125⋅t² + 0.0625⋅t³ - 0.0390625⋅t⁴ + 0.02734375⋅t⁵\n",
    "\n",
    "julia> imag(exp(tI)')\n",
    " - 1.0⋅t + 0.16666666666666666⋅t³ - 0.008333333333333333⋅t⁵\n",
    "\n",
    "julia> real(exp(Taylor1([0.0,1im],17))) - cos(Taylor1([0.0,1.0],17)) == 0.0\n",
    "true\n",
    "\n",
    "julia> convert(Taylor1{Rational{Int64}}, exp(t))  # output differes in v0.4\n",
    " 1//1 + 1//1⋅t + 1//2⋅t² + 1//6⋅t³ + 1//24⋅t⁴ + 1//120⋅t⁵\n"
   ]
  },
  {
   "cell_type": "markdown",
   "metadata": {},
   "source": [
    "Differentiating and integrating is straightforward for polynomial expansions in\n",
    "one variable. The last coefficient of a derivative is set to zero to keep the\n",
    "same order as the original polynomial; for the integral, an\n",
    "integration constant may be set to a different value (the default is zero). The\n",
    "order of the resulting polynomial is not changed. The $n$-th ($n \\ge 0$)\n",
    "derivative is obtained using `deriv(a,n)`, where `a` is a Taylor series;\n",
    "the default is $n=1$."
   ]
  },
  {
   "cell_type": "code",
   "execution_count": null,
   "metadata": {
    "attributes": {
     "classes": [
      "julia"
     ],
     "id": ""
    }
   },
   "outputs": [],
   "source": [
    "julia> diffTaylor(exp(t))\n",
    " 1.0 + 1.0⋅t + 0.5⋅t² + 0.16666666666666666⋅t³ + 0.041666666666666664⋅t⁴\n",
    "\n",
    "julia> integTaylor(exp(t))\n",
    " 1.0⋅t + 0.5⋅t² + 0.16666666666666666⋅t³ + 0.041666666666666664⋅t⁴ + 0.008333333333333333⋅t⁵\n",
    "\n",
    "julia> integTaylor( ans, 1.0)\n",
    " 1.0 + 0.5⋅t² + 0.16666666666666666⋅t³ + 0.041666666666666664⋅t⁴ + 0.008333333333333333⋅t⁵\n",
    "\n",
    "julia> integTaylor( diffTaylor( exp(-t)), 1.0 ) == exp(-t)\n",
    "true\n",
    "\n",
    "julia> deriv( exp(tT(1.0))) == exp(1.0)\n",
    "true\n",
    "\n",
    "# Fifth derivative of `exp(1+t)`\n",
    "julia> deriv( exp(tT(1.0)), 5) == exp(1.0)\n",
    "true"
   ]
  },
  {
   "cell_type": "markdown",
   "metadata": {},
   "source": [
    "To evaluate a Taylor series at a point, Horner's rule is used via the function\n",
    "`evalTaylor(a::Taylor, dt::Number)`. Here, $dt$ is the increment from\n",
    "the point $t_0$ where the Taylor expansion is calculated, i.e., the series\n",
    "is evaluated at $t = t_0 + dt$. Omitting $dt$ corresponds to $dt = 0$."
   ]
  },
  {
   "cell_type": "code",
   "execution_count": null,
   "metadata": {
    "attributes": {
     "classes": [
      "julia"
     ],
     "id": ""
    }
   },
   "outputs": [],
   "source": [
    "## exp(t) around t0=1 (order 5), evaluated there (dt=0)\n",
    "julia> evalTaylor( exp( tT(1.0) )) - e\n",
    "0.0\n",
    "\n",
    "## exp(t) around t0=0 (order 5), evaluated at t=1\n",
    "julia> evalTaylor( exp(t), 1) - e\n",
    "-0.0016151617923783057\n",
    "\n",
    "## exp(t) around t0=0 (order 17), evaluated at t=1\n",
    "julia> evalTaylor( exp( taylor1_variable(17) ), 1) - e\n",
    "0.0\n",
    "\n",
    "## With BigFloats\n",
    "julia> tBig = Taylor1([zero(BigFloat),one(BigFloat)],50)\n",
    " 1e+00⋅t\n",
    "\n",
    "julia> evalTaylor( exp(tBig), one(BigFloat) )\n",
    "2.718281828459045235360287471352662497757247093699959574966967627723419298053556e+00 with 256 bits of precision\n",
    "\n",
    "julia> e - ans\n",
    "6.573322999985292556154129119543257102601105719980995128942636339920549561322098e-67 with 256 bits of precision"
   ]
  },
  {
   "cell_type": "markdown",
   "metadata": {},
   "source": [
    "## Many variables\n",
    "\n",
    "A polynomial in $N>1$ variables can be represented in two distinct ways:\n",
    "As a vector whose coefficients are homogeneous polynomials of fixed degree, or\n",
    "as a vector whose coefficients are polynomials in $N-1$ variables. We have opted\n",
    "to implement the first option, which seems to show better performance. An elegant\n",
    "(lazy) implementation of the second representation was discussed on the\n",
    "[julia-users](https://groups.google.com/forum/#!msg/julia-users/AkK_UdST3Ig/sNrtyRJHK0AJ) list.\n",
    "\n",
    "`TaylorN` is thus constructed as a vector of parameterized homogeneous polynomials\n",
    "defined by the type `HomogeneousPolynomial`, which in turn is a vector of\n",
    "coefficients of given order (degree). This implementation imposes that the user\n",
    "has to specify the maximum order and the maximum number of independent\n",
    "variables. This is done using `set_params_TaylorN(maxord, numVars)`, where\n",
    "`maxord` is the maximum order (degree)\n",
    "of the polynomial considered, and `numVars` is the number of variables;\n",
    "`set_maxOrder()` and `set_numVars()` allow to change independently each\n",
    "parameter. By default, these parameters are set to 6 and 2, respectively. The\n",
    "function ``show_params_TaylorN()` displays the current values of these parameters."
   ]
  },
  {
   "cell_type": "code",
   "execution_count": null,
   "metadata": {
    "attributes": {
     "classes": [
      "julia"
     ],
     "id": ""
    }
   },
   "outputs": [],
   "source": [
    "julia> show_params_TaylorN()\n",
    "INFO: `TaylorN` and `HomogeneousPolynomial` parameters:\n",
    "    Maximum order       = 6\n",
    "    Number of variables = 2\n",
    "\n",
    "julia> set_params_TaylorN(8,2)\n",
    "Warning: redefining constant _params_taylorN\n",
    "(8,2)"
   ]
  },
  {
   "cell_type": "markdown",
   "metadata": {},
   "source": [
    "Technically (internally), these values define dictionaries that\n",
    "translate the position of the coefficients of a `HomogeneousPolynomial`\n",
    "into the corresponding\n",
    "multi-variable monomials. Fixing these values from the start is imperative.\n",
    "\n",
    "The easiest way of constructing a `TaylorN` object is by defining a symbol for\n",
    "the independent variables, using the function\n",
    "`taylorN_variable(T::Type{T<:Top}, nv::Int64, order::Int64)`;\n",
    "omitting the type yields a `TaylorN{Float64}` object, and omitting the order\n",
    "defaults to the maximum order. Again, the Taylor expansions are implemented\n",
    "around 0 for all variables; if the expansion\n",
    "is needed around a different value, the trick is a simple translation of\n",
    "the corresponding\n",
    "independent variable $x \\to x+a$."
   ]
  },
  {
   "cell_type": "code",
   "execution_count": null,
   "metadata": {
    "attributes": {
     "classes": [
      "julia"
     ],
     "id": ""
    }
   },
   "outputs": [],
   "source": [
    "julia> x = taylorN_variable(1)\n",
    " 1.0⋅x₁\n",
    "\n",
    "julia> y = taylorN_variable(2,6)\n",
    " 1.0⋅x₂\n",
    "\n",
    "julia> typeof(x)\n",
    "TaylorN{Float64} (constructor with 1 method)\n",
    "\n",
    "julia> x.order\n",
    "8\n",
    "\n",
    "julia> x.coeffs\n",
    "9-element Array{TaylorSeries.HomogeneousPolynomial{Float64},1}:\n",
    "     0.0\n",
    "  1.0⋅x₁\n",
    "     0.0\n",
    "     0.0\n",
    "     0.0\n",
    "     0.0\n",
    "     0.0\n",
    "     0.0\n",
    "     0.0\n",
    "\n",
    "julia> get_maxOrder(y)\n",
    "6"
   ]
  },
  {
   "cell_type": "markdown",
   "metadata": {},
   "source": [
    "Other ways of constructing `TaylorN` polynomials involve using `HomogeneousPolynomial`\n",
    "objects directly, which is uncomfortable:"
   ]
  },
  {
   "cell_type": "code",
   "execution_count": null,
   "metadata": {
    "attributes": {
     "classes": [
      "julia"
     ],
     "id": ""
    }
   },
   "outputs": [],
   "source": [
    "julia> HomogeneousPolynomial([1,-1])\n",
    " 1⋅x₁ - 1⋅x₂\n",
    "\n",
    "julia> TaylorN( [HomogeneousPolynomial([1,0]), HomogeneousPolynomial([1,2,3])], 4)\n",
    " 1⋅x₁ + 1⋅x₁² + 2⋅x₁⋅x₂ + 3⋅x₂²"
   ]
  },
  {
   "cell_type": "markdown",
   "metadata": {},
   "source": [
    "As before, the usual arithmetic operators (`+`, `-`, `*`, `/`, `^`, `==`)\n",
    "have been extended to work with `TaylorN` objects, including the appropriate\n",
    "promotions to deal with numbers. (Some of the arithmetic operations have\n",
    "also been extended for\n",
    "`HomogeneousPolynomial`, whenever the result is a `HomogeneousPolynomial`;\n",
    "division, for instance, is not extended.) Also, the elementary functions have been\n",
    "implemented, again by computing their coefficients recursively:"
   ]
  },
  {
   "cell_type": "code",
   "execution_count": null,
   "metadata": {
    "attributes": {
     "classes": [
      "julia"
     ],
     "id": ""
    }
   },
   "outputs": [],
   "source": [
    "julia> exy = exp(x+y)\n",
    " 1.0 + 1.0⋅x₁ + 1.0⋅x₂ + 0.5⋅x₁² + 1.0⋅x₁⋅x₂ + 0.5⋅x₂² + 0.16666666666666666⋅x₁³ + 0.5⋅x₁²⋅x₂ + 0.5⋅x₁⋅x₂² + 0.16666666666666666⋅x₂³ + 0.041666666666666664⋅x₁⁴ + 0.16666666666666666⋅x₁³⋅x₂ + 0.25⋅x₁²⋅x₂² + 0.16666666666666666⋅x₁⋅x₂³ + 0.041666666666666664⋅x₂⁴ + 0.008333333333333333⋅x₁⁵ + 0.041666666666666664⋅x₁⁴⋅x₂ + 0.08333333333333333⋅x₁³⋅x₂² + 0.08333333333333333⋅x₁²⋅x₂³ + 0.041666666666666664⋅x₁⋅x₂⁴ + 0.008333333333333333⋅x₂⁵ + 0.0013888888888888887⋅x₁⁶ + 0.008333333333333331⋅x₁⁵⋅x₂ + 0.020833333333333332⋅x₁⁴⋅x₂² + 0.027777777777777776⋅x₁³⋅x₂³ + 0.020833333333333332⋅x₁²⋅x₂⁴ + 0.008333333333333331⋅x₁⋅x₂⁵ + 0.0013888888888888887⋅x₂⁶ + 0.00019841269841269839⋅x₁⁷ + 0.0013888888888888885⋅x₁⁶⋅x₂ + 0.004166666666666666⋅x₁⁵⋅x₂² + 0.006944444444444443⋅x₁⁴⋅x₂³ + 0.006944444444444443⋅x₁³⋅x₂⁴ + 0.004166666666666666⋅x₁²⋅x₂⁵ + 0.0013888888888888885⋅x₁⋅x₂⁶ + 0.00019841269841269839⋅x₂⁷ + 2.4801587301587298e-5⋅x₁⁸ + 0.00019841269841269836⋅x₁⁷⋅x₂ + 0.0006944444444444443⋅x₁⁶⋅x₂² + 0.0013888888888888887⋅x₁⁵⋅x₂³ + 0.0017361111111111108⋅x₁⁴⋅x₂⁴ + 0.0013888888888888887⋅x₁³⋅x₂⁵ + 0.0006944444444444443⋅x₁²⋅x₂⁶ + 0.00019841269841269836⋅x₁⋅x₂⁷ + 2.4801587301587298e-5⋅x₂⁸"
   ]
  },
  {
   "cell_type": "markdown",
   "metadata": {},
   "source": [
    "Note above that `y` has been promoted internally so the result corresponds\n",
    "to the maximum of the orders of `x` and `y`. The function `get_coeff(a,v)`\n",
    "gives the coefficient of `x` that corresponds to the monomial\n",
    "specified by the vector of powers `v`:"
   ]
  },
  {
   "cell_type": "code",
   "execution_count": null,
   "metadata": {
    "attributes": {
     "classes": [
      "julia"
     ],
     "id": ""
    }
   },
   "outputs": [],
   "source": [
    "julia> get_coeff(exy, [3,5]) == 1/720\n",
    "false\n",
    "\n",
    "julia> rationalize(get_coeff(exy, [3,5]))\n",
    "1//720"
   ]
  },
  {
   "cell_type": "markdown",
   "metadata": {},
   "source": [
    "Partial differentiation is also implemented for\n",
    "`TaylorN` objects,\n",
    "using `diffTaylor`; integration is yet to be implemented."
   ]
  },
  {
   "cell_type": "code",
   "execution_count": null,
   "metadata": {
    "attributes": {
     "classes": [
      "julia"
     ],
     "id": ""
    }
   },
   "outputs": [],
   "source": [
    "julia> f(x,y) = x^3 + 2x^2 * y - 7x + 2\n",
    "f (generic function with 1 method)\n",
    "\n",
    "julia> g(x,y) = y - x^4\n",
    "g (generic function with 1 method)\n",
    "\n",
    "julia> diffTaylor( f(x,y), 1 )   # partial derivative with respect to 1st variable\n",
    " - 7.0 + 3.0⋅x₁² + 4.0⋅x₁⋅x₂\n",
    "\n",
    "julia> diffTaylor( g(x,y), 2 )\n",
    " 1.0\n",
    "\n",
    "julia> diffTaylor( g(x,y), 3 )   # error, since we are dealing with 2 variables\n",
    "ERROR: assertion failed: 1 <= r <= numVars\n",
    " in diffTaylor at /Users/benet/Fisica/6-IntervalArithmetics/TaylorSeries/src/utils_TaylorN.jl:699\n",
    " in diffTaylor at /Users/benet/Fisica/6-IntervalArithmetics/TaylorSeries/src/utils_TaylorN.jl:728"
   ]
  },
  {
   "cell_type": "markdown",
   "metadata": {},
   "source": [
    "`evalTaylor` can also be used for `TaylorN` objects, both for vectors of\n",
    "numbers or vectors of `Taylor1` objects; the length of the vector must\n",
    "coincide with the number\n",
    "of independent variables. The implementation still needs some improvements."
   ]
  },
  {
   "cell_type": "code",
   "execution_count": null,
   "metadata": {
    "attributes": {
     "classes": [
      "julia"
     ],
     "id": ""
    }
   },
   "outputs": [],
   "source": [
    "julia> evalTaylor(x+y, [t, 2t])  # x+y, with x=t, y=2t\n",
    " 3.0⋅t\n",
    "\n",
    "julia> evalTaylor(exy, [t,2t])\n",
    " 1.0 + 3.0⋅t + 4.5⋅t² + 4.5⋅t³ + 3.375⋅t⁴ + 2.025⋅t⁵ + 1.0125⋅t⁶ + 0.43392857142857133⋅t⁷ + 0.16272321428571423⋅t⁸\n",
    "\n",
    "julia> exp(3.0*taylor1_variable(8))\n",
    " 1.0 + 3.0⋅t + 4.5⋅t² + 4.5⋅t³ + 3.375⋅t⁴ + 2.025⋅t⁵ + 1.0125⋅t⁶ + 0.4339285714285714⋅t⁷ + 0.16272321428571426⋅t⁸"
   ]
  },
  {
   "cell_type": "markdown",
   "metadata": {},
   "source": [
    "Functions to compute the gradient, Jacobian and\n",
    "Hessian have also been implemented. Using the\n",
    "functions $f(x,y) = x^3 + 2x^2 y - 7 x + 2$ and $g(x,y) = y-x^4$ defined above,\n",
    "we may use `∇` (`\\nabla+TAB`) or `TaylorSeries.gradient`; the results are of\n",
    "type `Array{TaylorN{T},1}`. To compute the Jacobian or Hessian of a vector field\n",
    "evaluated at a point, we use `jacobian` and `hessian`:"
   ]
  },
  {
   "cell_type": "code",
   "execution_count": null,
   "metadata": {
    "attributes": {
     "classes": [
      "julia"
     ],
     "id": ""
    }
   },
   "outputs": [],
   "source": [
    "julia> f1 = f(x,y)\n",
    " 2.0 - 7.0⋅x₁ + 1.0⋅x₁³ + 2.0⋅x₁²⋅x₂\n",
    "\n",
    "julia> g1 = g(x,y)\n",
    " 1.0⋅x₂ - 1.0⋅x₁⁴\n",
    "\n",
    "julia> ∇(f1)\n",
    "2-element Array{TaylorN{Float64},1}:\n",
    "  - 7.0 + 3.0⋅x₁² + 4.0⋅x₁⋅x₂\n",
    "                      2.0⋅x₁²\n",
    "\n",
    "julia> gradient( g1 )\n",
    "2-element Array{TaylorN{Float64},1}:\n",
    "  - 4.0⋅x₁³\n",
    "        1.0\n",
    "\n",
    "julia> jacobian([f1,g1], [2,1])\n",
    "2x2 Array{Float64,2}:\n",
    "  13.0  8.0\n",
    " -32.0  1.0\n",
    "\n",
    "julia> fg = f1-g1-2*f1*g1\n",
    " 2.0 - 7.0⋅x₁ - 5.0⋅x₂ + 14.0⋅x₁⋅x₂ + 1.0⋅x₁³ + 2.0⋅x₁²⋅x₂ + 5.0⋅x₁⁴ - 2.0⋅x₁³⋅x₂ - 4.0⋅x₁²⋅x₂² - 14.0⋅x₁⁵ + 2.0⋅x₁⁷ + 4.0⋅x₁⁶⋅x₂\n",
    "\n",
    "julia> hessian(ans)\n",
    "2x2 Array{Float64,2}:\n",
    "  0.0  14.0\n",
    " 14.0   0.0\n",
    "\n",
    "julia> evalTaylor(fg, [x+1.0, y+1.0])\n",
    " - 2.0 - 12.0⋅x₁ + 5.0⋅x₂ - 13.0⋅x₁² + 20.0⋅x₁⋅x₂ - 4.0⋅x₂² + 29.0⋅x₁³ + 48.0⋅x₁²⋅x₂ - 8.0⋅x₁⋅x₂² + 65.0⋅x₁⁴ + 78.0⋅x₁³⋅x₂ - 4.0⋅x₁²⋅x₂² + 52.0⋅x₁⁵ + 60.0⋅x₁⁴⋅x₂ + 18.0⋅x₁⁶ + 24.0⋅x₁⁵⋅x₂ + 2.0⋅x₁⁷ + 4.0⋅x₁⁶⋅x₂\n",
    "\n",
    "julia> hessian(fg, [1.0,1.0])\n",
    "2x2 Array{Float64,2}:\n",
    " -26.0  20.0\n",
    "  20.0  -8.0"
   ]
  },
  {
   "cell_type": "markdown",
   "metadata": {},
   "source": [
    "## Examples\n",
    "\n",
    "### 1. Four-square identity\n",
    "\n",
    "The first example described below, shows that the four-square identity holds:\n",
    "\\\\begin{eqnarray}\n",
    "(a_1+a_2+a_3+a_4)\\\\cdot(b_1+b_2+b_3+b_4) & = &\n",
    "     (a_1 b_1 - a_2 b_2 - a_3 b_3 -a_4 b_4)^2 + \\\\qquad \\\\nonumber \\\\\\\\\n",
    "\\\\label{eq:Euler}\n",
    "  & & (a_1 b_2 - a_2 b_1 - a_3 b_4 -a_4 b_3)^2 + \\\\\\\\\n",
    "  & & (a_1 b_3 - a_2 b_4 - a_3 b_1 -a_4 b_2)^2 + \\\\nonumber \\\\\\\\\n",
    "  & & (a_1 b_4 - a_2 b_3 - a_3 b_2 -a_4 b_1)^2, \\\\nonumber\n",
    "\\\\end{eqnarray}\n",
    "as proved by Euler. The code can we found in one of the tests of the package.\n",
    "\n",
    "First, we reset the maximum degree of the polynomial to 4, since the RHS\n",
    "of the equation\n",
    "has *a priori* terms of fourth order, and the number of independent variables to\n",
    "8."
   ]
  },
  {
   "cell_type": "code",
   "execution_count": null,
   "metadata": {
    "attributes": {
     "classes": [
      "julia"
     ],
     "id": ""
    }
   },
   "outputs": [],
   "source": [
    "julia> set_params_TaylorN(4,8)\n",
    "Warning: redefining constant _params_taylorN\n",
    "(4,8)"
   ]
  },
  {
   "cell_type": "markdown",
   "metadata": {},
   "source": [
    "Next, we define the 8 independent variables"
   ]
  },
  {
   "cell_type": "code",
   "execution_count": null,
   "metadata": {
    "attributes": {
     "classes": [
      "julia"
     ],
     "id": ""
    }
   },
   "outputs": [],
   "source": [
    "julia> for i=1:4\n",
    "        ai = symbol(string(\"a\",i))\n",
    "        bi = symbol(string(\"b\",i))\n",
    "        @eval ($ai) = taylorN_variable(Int,$i,4)\n",
    "        @eval ($bi) = taylorN_variable(Int,4+($i),4)\n",
    "    end\n",
    "\n",
    "julia> a1\n",
    " 1⋅x₁\n",
    "\n",
    "julia> b1\n",
    " 1⋅x₅"
   ]
  },
  {
   "cell_type": "markdown",
   "metadata": {},
   "source": [
    "followed by the distinct terms that appear in (\\\\ref{eq:Euler}):"
   ]
  },
  {
   "cell_type": "code",
   "execution_count": null,
   "metadata": {
    "attributes": {
     "classes": [
      "julia"
     ],
     "id": ""
    }
   },
   "outputs": [],
   "source": [
    "julia> expr_lhs1 = a1^2 + a2^2 + a3^2 + a4^2 ;\n",
    "\n",
    "julia> expr_lhs2 = b1^2 + b2^2 + b3^2 + b4^2 ;\n",
    "\n",
    "julia> expr_rhs1 = (a1*b1 - a2*b2 - a3*b3 - a4*b4)^2 ;\n",
    "\n",
    "julia> expr_rhs2 = (a1*b2 + a2*b1 + a3*b4 - a4*b3)^2 ;\n",
    "\n",
    "julia> expr_rhs3 = (a1*b3 - a2*b4 + a3*b1 + a4*b2)^2 ;\n",
    "\n",
    "julia> expr_rhs4 = (a1*b4 + a2*b3 - a3*b2 + a4*b1)^2 ;"
   ]
  },
  {
   "cell_type": "markdown",
   "metadata": {},
   "source": [
    "and, finally, check that the LHS is equal to the RHS:"
   ]
  },
  {
   "cell_type": "code",
   "execution_count": null,
   "metadata": {
    "attributes": {
     "classes": [
      "julia"
     ],
     "id": ""
    }
   },
   "outputs": [],
   "source": [
    "julia> lhs = expr_lhs1 * expr_lhs2\n",
    " 1⋅x₁²⋅x₅² + 1⋅x₂²⋅x₅² + 1⋅x₃²⋅x₅² + 1⋅x₄²⋅x₅² + 1⋅x₁²⋅x₆² + 1⋅x₂²⋅x₆² + 1⋅x₃²⋅x₆² + 1⋅x₄²⋅x₆² + 1⋅x₁²⋅x₇² + 1⋅x₂²⋅x₇² + 1⋅x₃²⋅x₇² + 1⋅x₄²⋅x₇² + 1⋅x₁²⋅x₈² + 1⋅x₂²⋅x₈² + 1⋅x₃²⋅x₈² + 1⋅x₄²⋅x₈²\n",
    "\n",
    "julia> rhs = expr_rhs1 + expr_rhs2 + expr_rhs3 + expr_rhs4\n",
    " 1⋅x₁²⋅x₅² + 1⋅x₂²⋅x₅² + 1⋅x₃²⋅x₅² + 1⋅x₄²⋅x₅² + 1⋅x₁²⋅x₆² + 1⋅x₂²⋅x₆² + 1⋅x₃²⋅x₆² + 1⋅x₄²⋅x₆² + 1⋅x₁²⋅x₇² + 1⋅x₂²⋅x₇² + 1⋅x₃²⋅x₇² + 1⋅x₄²⋅x₇² + 1⋅x₁²⋅x₈² + 1⋅x₂²⋅x₈² + 1⋅x₃²⋅x₈² + 1⋅x₄²⋅x₈²\n",
    "\n",
    "julia> lhs == rhs\n",
    "true"
   ]
  },
  {
   "cell_type": "markdown",
   "metadata": {},
   "source": [
    "The identity is satisfied $\\\\square$.\n",
    "\n",
    "### 2. Fateman's test\n",
    "\n",
    "Richard J. Fateman, from Berkley, proposed as a stringent test\n",
    "of polynomial multiplication\n",
    "the evaluation of $s*(s+1)$, where $s = (1+x+y+z+w)^{20}$. This is\n",
    "implemented in\n",
    "the function `fateman1`. We shall also evaluate the form $s^2+s$ in `fateman2`,\n",
    "which involves fewer operations (and makes a fairer comparison to what\n",
    "Mathematica does). Below we use Julia v0.4, since it is faster than v0.3."
   ]
  },
  {
   "cell_type": "code",
   "execution_count": null,
   "metadata": {
    "attributes": {
     "classes": [
      "julia"
     ],
     "id": ""
    }
   },
   "outputs": [],
   "source": [
    "julia> set_params_TaylorN(40,4)   # maxOrder = 40; numVars = 4\n",
    "Warning: redefining constant _params_taylorN\n",
    "(40,4)\n",
    "\n",
    "julia> function fateman1(ndeg::Int)\n",
    "           T = Int128\n",
    "           unoH = HomogeneousPolynomial(one(T), 0)\n",
    "           s = TaylorN( [unoH, HomogeneousPolynomial([one(T),one(T),one(T),one(T)],1)], ndeg )\n",
    "           s = s^ndeg\n",
    "           # s is converted to order 2*ndeg\n",
    "           s = TaylorN(s, 2ndeg)\n",
    "           return s * (s+TaylorN(unoH, 2*ndeg))\n",
    "       end\n",
    "fateman1 (generic function with 1 method)\n",
    "\n",
    "julia> @time f1 = fateman1(0);\n",
    "elapsed time: 0.234384068 seconds (11 MB allocated)\n",
    "\n",
    "julia> @time f1 = fateman1(20);\n",
    "elapsed time: 9.137480042 seconds (69 MB allocated, 0.17% gc time in 3 pauses with 0 full sweep)\n",
    "\n",
    "julia> get_coeff(f1,[1,6,7,20])\n",
    "128358585324486316800\n",
    "\n",
    "julia> ans > typemax(Int)  # this is the reason for using Int128\n",
    "true\n",
    "\n",
    "julia> function fateman2(ndeg::Int)\n",
    "           T = Int128\n",
    "           unoH = HomogeneousPolynomial(one(T), 0)\n",
    "           s = TaylorN( [unoH, HomogeneousPolynomial([one(T),one(T),one(T),one(T)],1)], ndeg )\n",
    "           s = s^ndeg\n",
    "           # s is converted to order 2*ndeg\n",
    "           s = TaylorN(s, 2ndeg)\n",
    "           return s^2 + s\n",
    "       end\n",
    "fateman2 (generic function with 1 method)\n",
    "\n",
    "julia> @time f2 = fateman2(0);\n",
    "elapsed time: 0.008165855 seconds (299 kB allocated)\n",
    "\n",
    "julia> @time f2 = fateman2(20);\n",
    "elapsed time: 4.783816084 seconds (116 MB allocated, 0.30% gc time in 6 pauses with 0 full sweep)\n",
    "\n",
    "julia> get_coeff(f2,[1,6,7,20])\n",
    "128358585324486316800\n",
    "\n",
    "julia> sum(TaylorSeries.sizeTable) # number of distinct monomials\n",
    "135751"
   ]
  },
  {
   "cell_type": "markdown",
   "metadata": {},
   "source": [
    "The tests above show the necessity of using integers of type `Int128`, and that\n",
    "`fateman2` is\n",
    "about twice as fast as `fateman1`. We\n",
    "mention that our implementation of `fateman2` is roughly\n",
    "1.5 times slower than Mathematica, which takes 3.22 sec."
   ]
  }
 ],
 "metadata": {},
 "nbformat": 4,
 "nbformat_minor": 0
}
