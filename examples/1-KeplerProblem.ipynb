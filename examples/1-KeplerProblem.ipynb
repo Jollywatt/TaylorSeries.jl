{
 "metadata": {
  "language": "Julia",
  "name": "",
  "signature": "sha256:4fb47030af3e6139610d725abb6e9c3795fa62b3bd5cb0ef3b5a762ed1fd66b3"
 },
 "nbformat": 3,
 "nbformat_minor": 0,
 "worksheets": [
  {
   "cells": [
    {
     "cell_type": "markdown",
     "metadata": {},
     "source": [
      "# Integration of the Kepler problem with Taylor's method\n",
      "\n",
      "#### L. Benet, Instituto de Ciencias F\u00edsicas, UNAM"
     ]
    },
    {
     "cell_type": "markdown",
     "metadata": {},
     "source": [
      "## I. The Taylor Integrator\n",
      "\n",
      "-------"
     ]
    },
    {
     "cell_type": "markdown",
     "metadata": {},
     "source": [
      "Taylor's integration method for ODEs is quite powerful, allowing to reach a precision comparable to round-off errors in one time-step. While the equations of motion can be in general easily implemented, an efficient implementation requires additional work. Below, we shall show two distinct implementations of the equations of motion for the Kepler problem, which shows how to optimize the running-time."
     ]
    },
    {
     "cell_type": "markdown",
     "metadata": {},
     "source": [
      "We load first the relevant package: [TaylorSeries.jl][1]\n",
      "\n",
      "[1]: http://github.com/lbenet/TaylorSeries.jl"
     ]
    },
    {
     "cell_type": "code",
     "collapsed": false,
     "input": [
      "using TaylorSeries"
     ],
     "language": "python",
     "metadata": {},
     "outputs": [],
     "prompt_number": 1
    },
    {
     "cell_type": "markdown",
     "metadata": {},
     "source": [
      "The following *parameters* are set for the integrator:\n",
      "\n",
      "- `ordenTaylor`: Order of the Taylor polynomials considered\n",
      "- `epsAbs`: Absolute value set for the last (*and* the one-before-last) term of the Taylor expansion of the dynamical variables. This value is used to define an integration step and represents a measure of the error. Notice below that this value is smaller than `eps(1.0)`."
     ]
    },
    {
     "cell_type": "code",
     "collapsed": false,
     "input": [
      "# Par\u00e1metros para el integrador de Taylor\n",
      "const ordenTaylor = 28\n",
      "const epsAbs = 1.0e-20\n",
      "\n",
      "println(\" Taylor order = $ordenTaylor\\n Eps = $epsAbs\\n\")"
     ],
     "language": "python",
     "metadata": {},
     "outputs": [
      {
       "output_type": "stream",
       "stream": "stdout",
       "text": [
        " Taylor order = 28\n",
        " Eps = 1.0e-20\n",
        "\n"
       ]
      }
     ],
     "prompt_number": 2
    },
    {
     "cell_type": "markdown",
     "metadata": {},
     "source": [
      "The Taylor method works as follows: The equations of motion and the initial conditions $x(t_0)$, $y(t_0)$, $v_x(t_0)$, $v_y(t_0)$, are used to obtain *recursively* each term of the Taylor expansion of the dynamical variables:\n",
      "$$\n",
      "x_{[n+1]} = \\frac{f_{[n]}(x,t)}{n+1}.\n",
      "$$\n",
      "Here, $f_{[n]}(x,t)$ is the $n$-th Taylor coefficient of $f(x,t)$, which defines the equation of motion $\\dot{x} = f(x,t)$ and, likewise, $x_{[n]}$ is the $n$-th Taylor coefficient for the dependent variable $x(t)$, around $x(t_0)=x_{[0]}$. The latter corresponds to the initial condition.\n",
      "\n",
      "Once all Taylor coefficients are obtained, the last two terms of the expansion are used to determine the step size $h$ for the integration together with the value of `EpsAbs`. (Other methods exist that yield better optimized step-sizes, but these are usually more involved to compute.) Evaluating the Taylor expansion with the step-size yields the actual values of the dynamical variables at $t_1=t_0+h$. These values are then used as new *initial conditions* (at $t_0+h$) and everything is iterated.\n"
     ]
    },
    {
     "cell_type": "markdown",
     "metadata": {},
     "source": [
      "Except for the actual implementation of the equations of motion (the *jet*) discussed below, the following functions do what we just described:\n",
      "\n",
      "- `taylorStepper`: carries one step of the integration from $t_0$ to $t_1=t_0+h$, returning h and the value of the dynamical variables evaluated at $t_1$. This routine depends on a user-suplied routine that performs the computation of the Taylor coefficients of all dynamical variables, i.e., that implements the calculation of the jet (`jet_routine`). This routine has as input value a vector with the dynamical variables.\n",
      "- `stepsize`: Returns the integration step ($h$) from the Taylor expansion coefficients of *one* dynamical variable and `epsAbs`, as given by \n",
      "$ h = \\min[\\, (\\epsilon/x^{[p-1]})^{1/(p-1)}, (\\epsilon/x^{[p]})^{1/p}\\, ], $\n",
      "where $p$ is the order of the Taylor polynomial, $x^{[r]}$ is the $r$-order Taylor coefficient (the $r$-th derivative divided by $r!$), and $\\epsilon={\\tt epsAbs}$. \n"
     ]
    },
    {
     "cell_type": "code",
     "collapsed": false,
     "input": [
      "# Returns stepsize of the integration and a vector with the updated values of the dependent\n",
      "#  variables\n",
      "function taylorStepper{T<:Real}( jetEqs::Function, vec0::Array{T,1}, order::Int64, epsilon::T)\n",
      "    n = length( vec0 )\n",
      "    vec0T = [ Taylor([vec0[i]], order) for i=1:n ]\n",
      "    vec1T = jetEqs( vec0T )\n",
      "    \n",
      "    # Step-size\n",
      "    hh = Inf\n",
      "    for i=1:n\n",
      "        h1 = stepsize( vec1T[i], epsilon )\n",
      "        hh = min( hh, h1 )\n",
      "    end\n",
      "    #hh = hh*0.125\n",
      "    \n",
      "    # Values at t0+h\n",
      "    for i=1:n\n",
      "        vec0[i] = evalTaylor( vec1T[i], hh )\n",
      "    end\n",
      "    \n",
      "    return hh, vec0\n",
      "end"
     ],
     "language": "python",
     "metadata": {},
     "outputs": [
      {
       "metadata": {},
       "output_type": "pyout",
       "prompt_number": 3,
       "text": [
        "taylorStepper (generic function with 1 method)"
       ]
      }
     ],
     "prompt_number": 3
    },
    {
     "cell_type": "code",
     "collapsed": false,
     "input": [
      "# Returns the maximum step size from epsilon and the last two coefficients of the x-Taylor series \n",
      "function stepsize{T<:Real}(x::Taylor{T}, epsilon::Float64)\n",
      "    ord = x.order\n",
      "    h = Inf\n",
      "    for k in [ord-1, ord]\n",
      "        kinv = 1.0/k\n",
      "        aux = abs( x.coeffs[k+1] )\n",
      "        h = min(h, (epsilon/aux)^kinv)\n",
      "    end\n",
      "    return h\n",
      "end"
     ],
     "language": "python",
     "metadata": {},
     "outputs": [
      {
       "metadata": {},
       "output_type": "pyout",
       "prompt_number": 4,
       "text": [
        "stepsize (generic function with 1 method)"
       ]
      }
     ],
     "prompt_number": 4
    },
    {
     "cell_type": "markdown",
     "metadata": {},
     "source": [
      "## II. The Kepler problem\n",
      "\n",
      "-------"
     ]
    },
    {
     "cell_type": "markdown",
     "metadata": {},
     "source": [
      "As a concrete example, we numerically integrate the cartesian equations of motion of the (planar) Kepler problem:\n",
      "\n",
      "$$\n",
      "\\dot{x} = v_x,\\\\\n",
      "\\dot{y} = v_y,\\\\\n",
      "\\dot{v}_x = - \\frac{G M x}{(x^2 + y^2)^{3/2}},\\\\\n",
      "\\dot{v}_y = - \\frac{G M y}{(x^2 + y^2)^{3/2}}.\n",
      "$$"
     ]
    },
    {
     "cell_type": "markdown",
     "metadata": {},
     "source": [
      "For concreteness, we fix $\\mu = GM = 1$, and Kepler's third law defines the units of time in terms of those of distance: $T= 2\\pi a^{3/2}$. The origin is the center of mass of the two bodies, so $x$ and $y$ above are actually relative coordinates to the center of mass. We choose the $x$-axis to be parallel to the major axis of the ellipse.\n",
      "\n",
      "The initial conditions for the particle are set at periapse, which we locate on the positive x-axis. Using the semimajor axis $a$ and the eccentricity $e$, we have\n",
      "$$ \n",
      "x_0 = a (1-e),\\\\\n",
      "y_0 = 0,\\\\\n",
      "v_{x_0} = 0,\\\\\n",
      "v_{y_0} = l_z/x_0 = m \\sqrt{\\mu a (1-e^2)} / x_0,\n",
      "$$\n",
      "where $l_z$ is the angular momentum. Below we set the mass $m$ to 1."
     ]
    },
    {
     "cell_type": "code",
     "collapsed": false,
     "input": [
      "const mu = GM = 1.0\n",
      "\n",
      "const masa = 1.0\n",
      "const semieje = 1.0\n",
      "const excentricidad = 0.8\n",
      "\n",
      "println(\" mass = $masa\\n a = $semieje\\n e = $excentricidad\\n\")"
     ],
     "language": "python",
     "metadata": {},
     "outputs": [
      {
       "output_type": "stream",
       "stream": "stdout",
       "text": [
        " mass = 1.0\n",
        " a = 1.0\n",
        " e = 0.8\n",
        "\n"
       ]
      }
     ],
     "prompt_number": 5
    },
    {
     "cell_type": "markdown",
     "metadata": {},
     "source": [
      "The following functions allow us to calculate the energy and angular momentum using cartesian coordinates or the semimajor axis and excentricity of the orbit:"
     ]
    },
    {
     "cell_type": "code",
     "collapsed": false,
     "input": [
      "function energy{T<:Real}( x::T, y::T, vx::T, vy::T )\n",
      "    eneCin = 0.5*(vx*vx + vy*vy)\n",
      "    r = sqrt( x*x + y*y)\n",
      "    enePot = -GM*masa/r\n",
      "    return eneCin + enePot\n",
      "end\n",
      "energy{T<:Real}(a::T) = - 0.5*GM*masa/a"
     ],
     "language": "python",
     "metadata": {},
     "outputs": [
      {
       "metadata": {},
       "output_type": "pyout",
       "prompt_number": 6,
       "text": [
        "energy (generic function with 2 methods)"
       ]
      }
     ],
     "prompt_number": 6
    },
    {
     "cell_type": "code",
     "collapsed": false,
     "input": [
      "lz{T<:Real}( a::T, e::T ) = masa * sqrt( GM*a*(1-e^2) )\n",
      "lz1{T<:Real}( x::T, y::T, vx::T, vy::T ) = masa*( x*vy - y*vx )"
     ],
     "language": "python",
     "metadata": {},
     "outputs": [
      {
       "metadata": {},
       "output_type": "pyout",
       "prompt_number": 7,
       "text": [
        "lz1 (generic function with 1 method)"
       ]
      }
     ],
     "prompt_number": 7
    },
    {
     "cell_type": "markdown",
     "metadata": {},
     "source": [
      "As mentioned above, we set the initial conditions in cartesian coordinates from the values of the semimajor axis and eccentricity."
     ]
    },
    {
     "cell_type": "code",
     "collapsed": false,
     "input": [
      "function iniCond{T<:Real}(a::T, e::T)\n",
      "    x0  = a*(1-e)\n",
      "    vy0 = lz(a, e) / x0\n",
      "    y0  = zero(vy0)\n",
      "    vx0 = zero(vy0)\n",
      "    return x0, y0, vx0, vy0\n",
      "end"
     ],
     "language": "python",
     "metadata": {},
     "outputs": [
      {
       "metadata": {},
       "output_type": "pyout",
       "prompt_number": 8,
       "text": [
        "iniCond (generic function with 1 method)"
       ]
      }
     ],
     "prompt_number": 8
    },
    {
     "cell_type": "markdown",
     "metadata": {},
     "source": [
      "## III. Taylor integration of the Kepler problem\n",
      "\n",
      "-------"
     ]
    },
    {
     "cell_type": "markdown",
     "metadata": {},
     "source": [
      "As mentioned above, Taylor's integration method is quite powerful. Yet, the equations of motion have to be implemented individually, and this involves a bit more than simply defining a function which contains the equations of motion, although the latter can actually be implemented just like that.\n",
      "\n",
      "Below, the functions `jetKepler1` and `jetKepler2` are two implementations of the equations of motion for the Kepler problem. Both return a vector that contains the Taylor series' for the dynamical variables, taking as input a vector of Taylor coefficients. The former function is an *almost* straight forward implementation of the equations of motion, except for the fact that we have to use `Taylor`-type variables. The latter yields the same results, but the implementation is done by splitting the equations of motion in unary and binary (elementary) functions and operations. This second method is quite *hand-crafted* to the actual problem; it turns out to be much more efficient than the former."
     ]
    },
    {
     "cell_type": "code",
     "collapsed": false,
     "input": [
      "function jetKepler1{T<:Real}( vec::Array{Taylor{T},1} )\n",
      "    xT = vec[1]\n",
      "    yT = vec[2]\n",
      "    vxT = vec[3]\n",
      "    vyT = vec[4]\n",
      "\n",
      "    ord = xT.order\n",
      "    for k = 0:ord-1\n",
      "        knext = k+1\n",
      "        # Taylor expansions up to order k <--- This part makes it somewhat slower\n",
      "        xTt = Taylor( xT.coeffs[1:k+1], k)\n",
      "        yTt = Taylor( yT.coeffs[1:k+1], k)\n",
      "        vxTt = Taylor( vxT.coeffs[1:k+1], k)\n",
      "        vyTt = Taylor( vyT.coeffs[1:k+1], k)\n",
      "        # Eqs of motion <--- This is quite straight :-)\n",
      "        xDot = vxTt\n",
      "        yDot = vyTt\n",
      "        rrt = ( xTt^2 + yTt^2 )^(3/2)\n",
      "        vxDot = -GM * xTt / rrt\n",
      "        vyDot = -GM * yTt / rrt\n",
      "        # The equations of motion define the recurrencies\n",
      "        xT.coeffs[knext+1]  = xDot.coeffs[knext] / knext\n",
      "        yT.coeffs[knext+1]  = yDot.coeffs[knext] / knext\n",
      "        vxT.coeffs[knext+1] = vxDot.coeffs[knext] / knext\n",
      "        vyT.coeffs[knext+1] = vyDot.coeffs[knext] / knext\n",
      "    end\n",
      "    \n",
      "    return [ Taylor(xT, ord), Taylor(yT, ord), Taylor(vxT, ord), Taylor(vyT, ord) ]\n",
      "end"
     ],
     "language": "python",
     "metadata": {},
     "outputs": [
      {
       "metadata": {},
       "output_type": "pyout",
       "prompt_number": 9,
       "text": [
        "jetKepler1 (generic function with 1 method)"
       ]
      }
     ],
     "prompt_number": 9
    },
    {
     "cell_type": "code",
     "collapsed": false,
     "input": [
      "function jetKepler2{T<:Real}( vec::Array{Taylor{T},1} )\n",
      "    xT = vec[1]\n",
      "    yT = vec[2]\n",
      "    vxT = vec[3]\n",
      "    vyT = vec[4]\n",
      "\n",
      "    # Auxiliary quantities\n",
      "    ord = xT.order\n",
      "    x2T = zeros( T, ord+1 )\n",
      "    y2T = zeros( T, ord+1 )\n",
      "    sT  = zeros( T, ord+1 )\n",
      "    rT3 = zeros( T, ord+1 )\n",
      "    Fx  = zeros( T, ord+1 )\n",
      "    Fy  = zeros( T, ord+1 )\n",
      "\n",
      "    # Now the implementation\n",
      "    for k = 0:ord-1\n",
      "        knext = k+1\n",
      "        # The right-hand size of the eqs of motion <--- this is adpated for this problem\n",
      "        x2T[knext] = TaylorSeries.squareHomogCoef(k, xT.coeffs)\n",
      "        y2T[knext] = TaylorSeries.squareHomogCoef(k, yT.coeffs)\n",
      "        sT[knext]  = x2T[knext] + y2T[knext]\n",
      "        rT3[knext] = TaylorSeries.powHomogCoef(k, sT, 1.5, rT3, 0)\n",
      "        Fx[knext]  = TaylorSeries.divHomogCoef(k, xT.coeffs, rT3, Fx, 0)\n",
      "        Fy[knext]  = TaylorSeries.divHomogCoef(k, yT.coeffs, rT3, Fy, 0)\n",
      "        # The equations of motion define the recurrencies\n",
      "        xT.coeffs[knext+1]  = vxT.coeffs[knext] / knext\n",
      "        yT.coeffs[knext+1]  = vyT.coeffs[knext] / knext\n",
      "        vxT.coeffs[knext+1] = -GM * Fx[knext] / knext\n",
      "        vyT.coeffs[knext+1] = -GM * Fy[knext] / knext\n",
      "    end\n",
      "    \n",
      "    return [ Taylor(xT, ord), Taylor(yT, ord), Taylor(vxT, ord), Taylor(vyT, ord) ]\n",
      "end"
     ],
     "language": "python",
     "metadata": {},
     "outputs": [
      {
       "metadata": {},
       "output_type": "pyout",
       "prompt_number": 10,
       "text": [
        "jetKepler2 (generic function with 1 method)"
       ]
      }
     ],
     "prompt_number": 10
    },
    {
     "cell_type": "markdown",
     "metadata": {},
     "source": [
      "The following shows some benchmarks for 10 identic one-step integrations, using both implementations of the equations of motion."
     ]
    },
    {
     "cell_type": "code",
     "collapsed": false,
     "input": [
      "x0, y0, vx0, vy0 = iniCond(semieje, excentricidad)\n",
      "\n",
      "taylorStepper( jetKepler1, [x0, y0, vx0, vy0], ordenTaylor, epsAbs );\n",
      "\n",
      "timeJK1 = @elapsed begin\n",
      "    for i=1:10\n",
      "        taylorStepper( jetKepler1, [x0, y0, vx0, vy0], ordenTaylor, epsAbs );\n",
      "    end\n",
      "end\n",
      "taylorStepper( jetKepler1, [x0, y0, vx0, vy0], ordenTaylor, epsAbs )"
     ],
     "language": "python",
     "metadata": {},
     "outputs": [
      {
       "metadata": {},
       "output_type": "pyout",
       "prompt_number": 11,
       "text": [
        "(0.017379273627668643,[0.196264,0.0518147,-0.425432,2.94479])"
       ]
      }
     ],
     "prompt_number": 11
    },
    {
     "cell_type": "code",
     "collapsed": false,
     "input": [
      "x0, y0, vx0, vy0 = iniCond(semieje, excentricidad)\n",
      "\n",
      "taylorStepper( jetKepler2, [x0, y0, vx0, vy0], ordenTaylor, epsAbs );\n",
      "\n",
      "timeJK2 = @elapsed begin\n",
      "    for i=1:10\n",
      "        taylorStepper( jetKepler2, [x0, y0, vx0, vy0], ordenTaylor, epsAbs );\n",
      "    end\n",
      "end\n",
      "taylorStepper( jetKepler2, [x0, y0, vx0, vy0], ordenTaylor, epsAbs )\n"
     ],
     "language": "python",
     "metadata": {},
     "outputs": [
      {
       "metadata": {},
       "output_type": "pyout",
       "prompt_number": 12,
       "text": [
        "(0.017379273627668643,[0.196264,0.0518147,-0.425432,2.94479])"
       ]
      }
     ],
     "prompt_number": 12
    },
    {
     "cell_type": "code",
     "collapsed": false,
     "input": [
      "println( \"timeJK1 = $(timeJK1)   timeJK2 = $(timeJK2) \")\n",
      "println( \"timeJK1/timeJK2 = $(timeJK1/timeJK2)\" )"
     ],
     "language": "python",
     "metadata": {},
     "outputs": [
      {
       "output_type": "stream",
       "stream": "stdout",
       "text": [
        "timeJK1 = 0.003909543   timeJK2 = 0.000168069 \n"
       ]
      },
      {
       "output_type": "stream",
       "stream": "stdout",
       "text": [
        "timeJK1/timeJK2 = 23.261535440801097\n"
       ]
      }
     ],
     "prompt_number": 13
    },
    {
     "cell_type": "markdown",
     "metadata": {},
     "source": [
      "The results are identic, as it should be, but it is nice to get; yet, the elapsed time is somewhat  shorter when using `jetKepler2` ---as well as the  memory used---. The numbers clearly show that it is worth taking the time to construct the jet as in `jetKepler2`."
     ]
    },
    {
     "cell_type": "markdown",
     "metadata": {},
     "source": [
      "Now, we carry out a long integration of this rather eccentric keplerian orbit. Everything needed is included in the function `keplerIntegration`."
     ]
    },
    {
     "cell_type": "code",
     "collapsed": false,
     "input": [
      "function keplerIntegration( a::Float64, e::Float64, time_max::Float64, jetEqs::Function, \n",
      "                            orden::Int64=ordenTaylor, epsilon::Float64=epsAbs )\n",
      "    # Initial conditions, energy and angular momentum\n",
      "    t0 = 0.0\n",
      "    x0, y0, vx0, vy0 = iniCond(a, e)\n",
      "    ene0 = energy(x0, y0, vx0, vy0)\n",
      "    lz0 = lz1(x0, y0, vx0, vy0)\n",
      "    \n",
      "    # Change, measured in the local `eps` of the change of energy and angular momentum\n",
      "    eps_ene = eps(ene0); dEne = zero(Int64)\n",
      "    eps_lz = eps(lz0); dLz = zero(Int64)\n",
      "    \n",
      "    # Vectors to plot the orbit with PyPlot\n",
      "    tV, xV, yV, vxV, vyV = Float64[], Float64[], Float64[], Float64[], Float64[]\n",
      "    DeneV, DlzV = Int64[], Int64[]\n",
      "    push!(tV, t0)\n",
      "    push!(xV, x0); push!(yV, y0)\n",
      "    push!(vxV, vx0); push!(vyV, vy0)\n",
      "    push!(DeneV, zero(Int64)); push!(DlzV, zero(Int64))\n",
      "    \n",
      "    # This is the main loop; we include a minimum step size for security\n",
      "    dt = 1.0\n",
      "    while t0 < time_max && dt>1.0e-8\n",
      "        # Here we integrate\n",
      "        dt, (x1, y1, vx1, vy1) = taylorStepper( jetEqs, [x0, y0, vx0, vy0], orden, epsilon );\n",
      "        t0 += dt\n",
      "        push!(tV,t0)\n",
      "        push!(xV,x1); push!(yV,y1)\n",
      "        push!(vxV, vx1); push!(vyV, vy1)\n",
      "        eneEnd = energy(x1, y1, vx1, vy1)\n",
      "        lzEnd = lz1(x1, y1, vx1, vy1)\n",
      "        dEne = itrunc( (eneEnd-ene0)/eps_ene )\n",
      "        dLz  = itrunc( (lzEnd-lz0)/eps_lz )\n",
      "        push!(DeneV, dEne)\n",
      "        push!(DlzV, dLz)\n",
      "        x0, y0, vx0, vy0 = x1, y1, vx1, vy1\n",
      "    end\n",
      "\n",
      "    return tV, xV, yV, DeneV, DlzV\n",
      "end"
     ],
     "language": "python",
     "metadata": {},
     "outputs": [
      {
       "metadata": {},
       "output_type": "pyout",
       "prompt_number": 14,
       "text": [
        "keplerIntegration (generic function with 3 methods)"
       ]
      }
     ],
     "prompt_number": 14
    },
    {
     "cell_type": "code",
     "collapsed": false,
     "input": [
      "#jetKepler\n",
      "tV1, xV1, yV1, DeneV1, DlzV1 = keplerIntegration( semieje, excentricidad, 2pi, jetKepler1);\n",
      "@time tV1, xV1, yV1, DeneV1, DlzV1 = \n",
      "    keplerIntegration( semieje, excentricidad, 1000*2pi, jetKepler1);"
     ],
     "language": "python",
     "metadata": {},
     "outputs": [
      {
       "output_type": "stream",
       "stream": "stdout",
       "text": [
        "elapsed time: 18"
       ]
      },
      {
       "output_type": "stream",
       "stream": "stdout",
       "text": [
        ".082093805 seconds (19409259304 bytes allocated, 40.40% gc time)\n"
       ]
      }
     ],
     "prompt_number": 15
    },
    {
     "cell_type": "code",
     "collapsed": false,
     "input": [
      "#jetKepler2\n",
      "tV2, xV2, yV2, DeneV2, DlzV2 = keplerIntegration( semieje, excentricidad, 2pi, jetKepler2);\n",
      "@time tV2, xV2, yV2, DeneV2, DlzV2 = \n",
      "    keplerIntegration( semieje, excentricidad, 1000*2pi, jetKepler2);"
     ],
     "language": "python",
     "metadata": {},
     "outputs": [
      {
       "output_type": "stream",
       "stream": "stdout",
       "text": [
        "elapsed time: "
       ]
      },
      {
       "output_type": "stream",
       "stream": "stdout",
       "text": [
        "0.994901918 seconds (677289528 bytes allocated, 28.49% gc time)\n"
       ]
      }
     ],
     "prompt_number": 16
    },
    {
     "cell_type": "markdown",
     "metadata": {},
     "source": [
      "Checking the consistency of the results after 1000 periods"
     ]
    },
    {
     "cell_type": "code",
     "collapsed": false,
     "input": [
      "tV1[end] == tV2[end], yV1[end] == yV2[end]"
     ],
     "language": "python",
     "metadata": {},
     "outputs": [
      {
       "metadata": {},
       "output_type": "pyout",
       "prompt_number": 17,
       "text": [
        "(true,true)"
       ]
      }
     ],
     "prompt_number": 17
    },
    {
     "cell_type": "markdown",
     "metadata": {},
     "source": [
      "The minimum value of the step-size:"
     ]
    },
    {
     "cell_type": "code",
     "collapsed": false,
     "input": [
      "minimum([tV1[i+1]-tV1[i] for i=1:length(tV1)-1])"
     ],
     "language": "python",
     "metadata": {},
     "outputs": [
      {
       "metadata": {},
       "output_type": "pyout",
       "prompt_number": 18,
       "text": [
        "0.017379273627668643"
       ]
      }
     ],
     "prompt_number": 18
    },
    {
     "cell_type": "markdown",
     "metadata": {},
     "source": [
      "which, in units of the orbital period, is:"
     ]
    },
    {
     "cell_type": "code",
     "collapsed": false,
     "input": [
      "ans/(2pi)"
     ],
     "language": "python",
     "metadata": {},
     "outputs": [
      {
       "metadata": {},
       "output_type": "pyout",
       "prompt_number": 19,
       "text": [
        "0.0027659973051900803"
       ]
      }
     ],
     "prompt_number": 19
    },
    {
     "cell_type": "markdown",
     "metadata": {},
     "source": [
      "The average step-size is:"
     ]
    },
    {
     "cell_type": "code",
     "collapsed": false,
     "input": [
      "(tV1[end]-tV1[1])/(length(tV1)-1)"
     ],
     "language": "python",
     "metadata": {},
     "outputs": [
      {
       "metadata": {},
       "output_type": "pyout",
       "prompt_number": 20,
       "text": [
        "0.14405720621814588"
       ]
      }
     ],
     "prompt_number": 20
    },
    {
     "cell_type": "code",
     "collapsed": false,
     "input": [
      "ans/(2pi)"
     ],
     "language": "python",
     "metadata": {},
     "outputs": [
      {
       "metadata": {},
       "output_type": "pyout",
       "prompt_number": 21,
       "text": [
        "0.02292741645762644"
       ]
      }
     ],
     "prompt_number": 21
    },
    {
     "cell_type": "markdown",
     "metadata": {},
     "source": [
      "Now let us plot the trajectory using `PyPlot`:"
     ]
    },
    {
     "cell_type": "code",
     "collapsed": false,
     "input": [
      "using PyPlot"
     ],
     "language": "python",
     "metadata": {},
     "outputs": [
      {
       "output_type": "stream",
       "stream": "stderr",
       "text": [
        "INFO: Loading help data...\n"
       ]
      }
     ],
     "prompt_number": 22
    },
    {
     "cell_type": "code",
     "collapsed": false,
     "input": [
      "axis(\"equal\")\n",
      "plot(xV1, yV1, \",\", [0], [0], \"+\")"
     ],
     "language": "python",
     "metadata": {},
     "outputs": [
      {
       "metadata": {},
       "output_type": "display_data",
       "png": "[encoded data removed]",
       "text": [
        "Figure(PyObject <matplotlib.figure.Figure object at 0x10eb4cf10>)"
       ]
      },
      {
       "metadata": {},
       "output_type": "pyout",
       "prompt_number": 23,
       "text": [
        "2-element Array{Any,1}:\n",
        " PyObject <matplotlib.lines.Line2D object at 0x112897a50>\n",
        " PyObject <matplotlib.lines.Line2D object at 0x112897c50>"
       ]
      }
     ],
     "prompt_number": 23
    },
    {
     "cell_type": "markdown",
     "metadata": {},
     "source": [
      "Here we also plot the absolute change of energy and angular momentum as a function of time, in units of the \n",
      "local `eps` values for the initial quantities."
     ]
    },
    {
     "cell_type": "code",
     "collapsed": false,
     "input": [
      "plot(tV2/(2pi), DeneV2, \",\", tV2/(2pi), DlzV2, \",\")"
     ],
     "language": "python",
     "metadata": {},
     "outputs": [
      {
       "metadata": {},
       "output_type": "display_data",
       "png": "[encoded data removed]",
       "text": [
        "Figure(PyObject <matplotlib.figure.Figure object at 0x112897fd0>)"
       ]
      },
      {
       "metadata": {},
       "output_type": "pyout",
       "prompt_number": 24,
       "text": [
        "2-element Array{Any,1}:\n",
        " PyObject <matplotlib.lines.Line2D object at 0x10d7b8bd0>\n",
        " PyObject <matplotlib.lines.Line2D object at 0x10d7b8e10>"
       ]
      }
     ],
     "prompt_number": 24
    },
    {
     "cell_type": "code",
     "collapsed": false,
     "input": [
      "tV2, xV2, yV2, DeneV2, DlzV2 = \n",
      "    keplerIntegration( semieje, excentricidad, 2pi*10000.0, jetKepler2);"
     ],
     "language": "python",
     "metadata": {},
     "outputs": [],
     "prompt_number": 25
    },
    {
     "cell_type": "code",
     "collapsed": false,
     "input": [
      "plot(tV2/(2pi), DeneV2, \",\", tV2/(2pi), DlzV2, \",\")"
     ],
     "language": "python",
     "metadata": {},
     "outputs": [
      {
       "metadata": {},
       "output_type": "display_data",
       "png": "[encoded data removed]",
       "text": [
        "Figure(PyObject <matplotlib.figure.Figure object at 0x10d7a21d0>)"
       ]
      },
      {
       "metadata": {},
       "output_type": "pyout",
       "prompt_number": 26,
       "text": [
        "2-element Array{Any,1}:\n",
        " PyObject <matplotlib.lines.Line2D object at 0x1020a3b50>\n",
        " PyObject <matplotlib.lines.Line2D object at 0x1020a3d90>"
       ]
      }
     ],
     "prompt_number": 26
    },
    {
     "cell_type": "code",
     "collapsed": false,
     "input": [
      "maximum(abs(DeneV2)), maximum(abs(DlzV2))"
     ],
     "language": "python",
     "metadata": {},
     "outputs": [
      {
       "metadata": {},
       "output_type": "pyout",
       "prompt_number": 27,
       "text": [
        "(704,176)"
       ]
      }
     ],
     "prompt_number": 27
    },
    {
     "cell_type": "code",
     "collapsed": false,
     "input": [
      "maximum(abs(DeneV2))*eps(1.0), maximum(abs(DlzV2))*eps(1.0)"
     ],
     "language": "python",
     "metadata": {},
     "outputs": [
      {
       "metadata": {},
       "output_type": "pyout",
       "prompt_number": 28,
       "text": [
        "(1.5631940186722204e-13,3.907985046680551e-14)"
       ]
      }
     ],
     "prompt_number": 28
    },
    {
     "cell_type": "markdown",
     "metadata": {},
     "source": [
      "The absolute change of this quantities, after 10000 periods, is for the energy $704\\ {\\rm eps}\\sim 1.56\\times 10^{-13}$, and for the angular momentum $176\\ {\\rm eps}\\sim 3.9\\times10^{-14}$. The changes in time of these queantities have a random walk like behaviour, pointing out that they are due to the round-off errors in the computations.\n",
      "\n",
      "This performance is **really good**."
     ]
    }
   ],
   "metadata": {}
  }
 ]
}